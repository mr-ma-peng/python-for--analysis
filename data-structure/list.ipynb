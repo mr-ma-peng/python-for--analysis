{
 "cells": [
  {
   "cell_type": "markdown",
   "id": "e810b7ab-a835-43a7-a889-362c1d6b8026",
   "metadata": {},
   "source": [
    "# 列表 list"
   ]
  },
  {
   "cell_type": "code",
   "execution_count": 10,
   "id": "aac11736-4401-4a26-a030-85648f34a07c",
   "metadata": {},
   "outputs": [
    {
     "data": {
      "text/plain": [
       "[0, 1, 2, 3, 4, 5, 6, 7, 8, 9]"
      ]
     },
     "execution_count": 10,
     "metadata": {},
     "output_type": "execute_result"
    }
   ],
   "source": [
    "a_list = list(range(10))\n",
    "a_list"
   ]
  },
  {
   "cell_type": "code",
   "execution_count": 4,
   "id": "70c8e709-56cf-45a6-8feb-8d6a68e231de",
   "metadata": {},
   "outputs": [
    {
     "data": {
      "text/plain": [
       "[0, 1, 2.0, 3, 4, 5, 6, 7, 8, 9]"
      ]
     },
     "execution_count": 4,
     "metadata": {},
     "output_type": "execute_result"
    }
   ],
   "source": [
    "a_list[2] = 2.0\n",
    "a_list"
   ]
  },
  {
   "cell_type": "code",
   "execution_count": 11,
   "id": "81537dc7-0040-4250-a97c-b60da7e5d905",
   "metadata": {},
   "outputs": [
    {
     "data": {
      "text/plain": [
       "['first', 0, 1, 2, 3, 4, 5, 6, 7, 8, 'append']"
      ]
     },
     "execution_count": 11,
     "metadata": {},
     "output_type": "execute_result"
    }
   ],
   "source": [
    "a_list.append('append')\n",
    "a_list.insert(0, 'first')\n",
    "a_list.pop(-2)\n",
    "a_list"
   ]
  },
  {
   "cell_type": "code",
   "execution_count": 12,
   "id": "1232b8d0-be93-4713-852a-4ca015521ca8",
   "metadata": {},
   "outputs": [
    {
     "data": {
      "text/plain": [
       "['first', 0, 2, 3, 4, 5, 6, 7, 8, 'append']"
      ]
     },
     "execution_count": 12,
     "metadata": {},
     "output_type": "execute_result"
    }
   ],
   "source": [
    "a_list.remove(1)\n",
    "a_list"
   ]
  },
  {
   "cell_type": "code",
   "execution_count": 14,
   "id": "944e3a4c-1bc0-4786-8600-a761779ee4f0",
   "metadata": {},
   "outputs": [
    {
     "data": {
      "text/plain": [
       "True"
      ]
     },
     "execution_count": 14,
     "metadata": {},
     "output_type": "execute_result"
    }
   ],
   "source": [
    "'first' in a_list"
   ]
  },
  {
   "cell_type": "code",
   "execution_count": 16,
   "id": "73f0c20a-0055-4b28-8fdc-da270fbd2059",
   "metadata": {},
   "outputs": [
    {
     "data": {
      "text/plain": [
       "True"
      ]
     },
     "execution_count": 16,
     "metadata": {},
     "output_type": "execute_result"
    }
   ],
   "source": [
    "'two' not in a_list"
   ]
  },
  {
   "cell_type": "code",
   "execution_count": 17,
   "id": "1de16a58-4e7e-431a-8fd0-df073e592761",
   "metadata": {},
   "outputs": [
    {
     "data": {
      "text/plain": [
       "[4, None, 'foo', 5, 4, (2, 3)]"
      ]
     },
     "execution_count": 17,
     "metadata": {},
     "output_type": "execute_result"
    }
   ],
   "source": [
    "# 联合列表\n",
    "x = [4, None, 'foo']\n",
    "x.extend([5, 4, (2,3)])\n",
    "x"
   ]
  },
  {
   "cell_type": "code",
   "execution_count": 19,
   "id": "01718249-0d3f-447b-954b-6a22e3271efe",
   "metadata": {},
   "outputs": [
    {
     "data": {
      "text/plain": [
       "[1, 2, 3, 5, 7]"
      ]
     },
     "execution_count": 19,
     "metadata": {},
     "output_type": "execute_result"
    }
   ],
   "source": [
    "# 排序\n",
    "a = [7, 2, 5, 1, 3]\n",
    "a.sort()\n",
    "a"
   ]
  },
  {
   "cell_type": "code",
   "execution_count": 20,
   "id": "00789d0e-c4c4-437b-ac79-8a2025761abc",
   "metadata": {},
   "outputs": [
    {
     "data": {
      "text/plain": [
       "['he', 'saw', 'six', 'small', 'foxes']"
      ]
     },
     "execution_count": 20,
     "metadata": {},
     "output_type": "execute_result"
    }
   ],
   "source": [
    "b = ['saw', 'small', 'he', 'foxes', 'six']\n",
    "b.sort(key=len)\n",
    "b"
   ]
  },
  {
   "cell_type": "markdown",
   "id": "3921b440-78d0-4a4b-b1c9-2782448a46df",
   "metadata": {},
   "source": [
    "## 二分搜索 & 排序列表"
   ]
  },
  {
   "cell_type": "code",
   "execution_count": 1,
   "id": "93e1af59-ae2e-4bd4-bbc6-1ddb27cb89da",
   "metadata": {},
   "outputs": [
    {
     "data": {
      "text/plain": [
       "4"
      ]
     },
     "execution_count": 1,
     "metadata": {},
     "output_type": "execute_result"
    }
   ],
   "source": [
    "import bisect\n",
    "c = [1, 2, 2, 2, 3, 4, 5]\n",
    "bisect.bisect(c, 2)"
   ]
  },
  {
   "cell_type": "code",
   "execution_count": 2,
   "id": "809571f9-1d77-411c-8934-2c0c73ee4796",
   "metadata": {},
   "outputs": [
    {
     "data": {
      "text/plain": [
       "[1, 2, 2, 2, 3, 4, 5]"
      ]
     },
     "execution_count": 2,
     "metadata": {},
     "output_type": "execute_result"
    }
   ],
   "source": [
    "c"
   ]
  },
  {
   "cell_type": "code",
   "execution_count": 4,
   "id": "fe8def22-ee1d-4675-b344-a5a048cd36ab",
   "metadata": {},
   "outputs": [
    {
     "data": {
      "text/plain": [
       "[1, 2, 2, 2, 3, 3, 4, 5, 6]"
      ]
     },
     "execution_count": 4,
     "metadata": {},
     "output_type": "execute_result"
    }
   ],
   "source": [
    "bisect.insort(c, 3)\n",
    "c"
   ]
  },
  {
   "cell_type": "markdown",
   "id": "93967691-a9f7-4630-b296-d567dea6f556",
   "metadata": {},
   "source": [
    "## 切片"
   ]
  },
  {
   "cell_type": "code",
   "execution_count": 5,
   "id": "a3ff1183-ed5c-48bf-b61d-5454103ec52d",
   "metadata": {},
   "outputs": [
    {
     "data": {
      "text/plain": [
       "[2, 3, 7, 5]"
      ]
     },
     "execution_count": 5,
     "metadata": {},
     "output_type": "execute_result"
    }
   ],
   "source": [
    "seq = [7, 2, 3, 7, 5, 6, 0, 1]\n",
    "seq[1:5]"
   ]
  },
  {
   "cell_type": "code",
   "execution_count": 7,
   "id": "103a703e-40ac-468d-ac78-04315024a6ac",
   "metadata": {},
   "outputs": [
    {
     "data": {
      "text/plain": [
       "[7, 2, 3, 1, 1, 5, 6, 0, 1]"
      ]
     },
     "execution_count": 7,
     "metadata": {},
     "output_type": "execute_result"
    }
   ],
   "source": [
    "seq[3:4] = [1,1]\n",
    "seq"
   ]
  },
  {
   "cell_type": "code",
   "execution_count": 8,
   "id": "3849901f-4e8b-4b3d-918c-b22b1655ad80",
   "metadata": {},
   "outputs": [
    {
     "data": {
      "text/plain": [
       "[7, 2, 3, 1, 1]"
      ]
     },
     "execution_count": 8,
     "metadata": {},
     "output_type": "execute_result"
    }
   ],
   "source": [
    "seq[:5]"
   ]
  },
  {
   "cell_type": "code",
   "execution_count": 9,
   "id": "7220d0b7-f0e6-449e-8dae-dce2938f2e29",
   "metadata": {},
   "outputs": [
    {
     "data": {
      "text/plain": [
       "[5, 6, 0, 1]"
      ]
     },
     "execution_count": 9,
     "metadata": {},
     "output_type": "execute_result"
    }
   ],
   "source": [
    "seq[-4:]"
   ]
  },
  {
   "cell_type": "code",
   "execution_count": 10,
   "id": "711bbcb5-93a8-4e51-b37e-8e638c310e3f",
   "metadata": {},
   "outputs": [
    {
     "data": {
      "text/plain": [
       "[7, 3, 1, 6, 1]"
      ]
     },
     "execution_count": 10,
     "metadata": {},
     "output_type": "execute_result"
    }
   ],
   "source": [
    "seq[::2]"
   ]
  },
  {
   "cell_type": "code",
   "execution_count": 11,
   "id": "514892de-5ccd-4710-b982-8098cc1ca817",
   "metadata": {},
   "outputs": [
    {
     "data": {
      "text/plain": [
       "[1, 0, 6, 5, 1, 1, 3, 2, 7]"
      ]
     },
     "execution_count": 11,
     "metadata": {},
     "output_type": "execute_result"
    }
   ],
   "source": [
    "# 翻转\n",
    "seq[::-1]"
   ]
  },
  {
   "cell_type": "markdown",
   "id": "3987e67c-d49b-4205-afae-a66dc7d834fd",
   "metadata": {},
   "source": [
    "## 内建序列函数\n",
    "for i, value in enumerate(collection):\n",
    "    pass"
   ]
  },
  {
   "cell_type": "code",
   "execution_count": 1,
   "id": "b6c5024d-4b2a-43bd-a816-1487d523f649",
   "metadata": {},
   "outputs": [
    {
     "data": {
      "text/plain": [
       "[1, 2, 4, 7, 8]"
      ]
     },
     "execution_count": 1,
     "metadata": {},
     "output_type": "execute_result"
    }
   ],
   "source": [
    "sorted([7, 4, 2, 1,8])"
   ]
  },
  {
   "cell_type": "code",
   "execution_count": 2,
   "id": "78fead35-6351-4e5f-b1da-1ca8d637f587",
   "metadata": {},
   "outputs": [
    {
     "data": {
      "text/plain": [
       "[' ', 'a', 'c', 'e', 'e', 'h', 'o', 'r', 'r', 's']"
      ]
     },
     "execution_count": 2,
     "metadata": {},
     "output_type": "execute_result"
    }
   ],
   "source": [
    "sorted('horse race')"
   ]
  },
  {
   "cell_type": "code",
   "execution_count": 4,
   "id": "d1008936-119f-4b49-b7ec-db45986f92e1",
   "metadata": {},
   "outputs": [
    {
     "data": {
      "text/plain": [
       "[('foo', 'one', False), ('bar', 'two', True)]"
      ]
     },
     "execution_count": 4,
     "metadata": {},
     "output_type": "execute_result"
    }
   ],
   "source": [
    "seq1 = ['foo', 'bar', 'baz']\n",
    "seq2 = ['one', 'two', 'three']\n",
    "seq3 = [False, True]\n",
    "zipped = zip(seq1, seq2, seq3)\n",
    "list(zipped)"
   ]
  },
  {
   "cell_type": "markdown",
   "id": "b506a060-c8e3-453b-8f58-9d9276928ba6",
   "metadata": {},
   "source": [
    "## 行专列"
   ]
  },
  {
   "cell_type": "code",
   "execution_count": 5,
   "id": "17082df7-8f5e-4e24-9fcb-51c1cd4cacb7",
   "metadata": {},
   "outputs": [],
   "source": [
    "pitchers = [('nolan', 'ryan'), ('roger', 'clemen')]\n",
    "first_names, last_names = zip(*pitchers)"
   ]
  },
  {
   "cell_type": "code",
   "execution_count": 6,
   "id": "577a55f9-58ab-4a9c-847d-0be9fcb24f8c",
   "metadata": {},
   "outputs": [
    {
     "data": {
      "text/plain": [
       "('nolan', 'roger')"
      ]
     },
     "execution_count": 6,
     "metadata": {},
     "output_type": "execute_result"
    }
   ],
   "source": [
    "first_names"
   ]
  },
  {
   "cell_type": "code",
   "execution_count": 7,
   "id": "03fe0c55-913d-452a-9f5e-0deb83963f1a",
   "metadata": {},
   "outputs": [
    {
     "data": {
      "text/plain": [
       "('ryan', 'clemen')"
      ]
     },
     "execution_count": 7,
     "metadata": {},
     "output_type": "execute_result"
    }
   ],
   "source": [
    "last_names"
   ]
  },
  {
   "cell_type": "code",
   "execution_count": 8,
   "id": "e82eef6f-c2bd-4cad-b970-52ad4d48bee2",
   "metadata": {},
   "outputs": [
    {
     "data": {
      "text/plain": [
       "[9, 8, 7, 6, 5, 4, 3, 2, 1, 0]"
      ]
     },
     "execution_count": 8,
     "metadata": {},
     "output_type": "execute_result"
    }
   ],
   "source": [
    "list(reversed(range(10)))"
   ]
  }
 ],
 "metadata": {
  "kernelspec": {
   "display_name": "Python 3 (ipykernel)",
   "language": "python",
   "name": "python3"
  },
  "language_info": {
   "codemirror_mode": {
    "name": "ipython",
    "version": 3
   },
   "file_extension": ".py",
   "mimetype": "text/x-python",
   "name": "python",
   "nbconvert_exporter": "python",
   "pygments_lexer": "ipython3",
   "version": "3.8.10"
  }
 },
 "nbformat": 4,
 "nbformat_minor": 5
}
