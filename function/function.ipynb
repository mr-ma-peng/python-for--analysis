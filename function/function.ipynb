{
 "cells": [
  {
   "cell_type": "markdown",
   "id": "76cc12a4-640a-482a-ab6d-0dfe6b57ca9f",
   "metadata": {},
   "source": [
    "# 函数"
   ]
  },
  {
   "cell_type": "code",
   "execution_count": 1,
   "id": "33e85a91-7ba0-4087-85eb-ab6b8227bf7b",
   "metadata": {},
   "outputs": [],
   "source": [
    "def my_function(x, y, z=1.5):\n",
    "    if z > 1:\n",
    "        return z * (x + y)\n",
    "    else:\n",
    "        return z / (x + y)"
   ]
  },
  {
   "cell_type": "code",
   "execution_count": 2,
   "id": "a055f5ac-8098-4190-a7f5-133403b0fd5d",
   "metadata": {},
   "outputs": [
    {
     "data": {
      "text/plain": [
       "0.06363636363636363"
      ]
     },
     "execution_count": 2,
     "metadata": {},
     "output_type": "execute_result"
    }
   ],
   "source": [
    "my_function(5, 6, z=0.7)"
   ]
  },
  {
   "cell_type": "markdown",
   "id": "cde6b438-fcfb-4ba2-9287-e906b731b485",
   "metadata": {},
   "source": [
    "## 命名空间， 作用域和本地函数"
   ]
  },
  {
   "cell_type": "code",
   "execution_count": 4,
   "id": "7ae6efa3-683a-4070-8af8-ff0458c3b4b8",
   "metadata": {},
   "outputs": [],
   "source": [
    "a = None\n",
    "def bind_a_variable():\n",
    "    global a\n",
    "    a = []"
   ]
  },
  {
   "cell_type": "code",
   "execution_count": 6,
   "id": "e1747ba6-0f1b-4c83-a1c8-8d097224c4ee",
   "metadata": {},
   "outputs": [],
   "source": [
    "bind_a_variable()"
   ]
  },
  {
   "cell_type": "code",
   "execution_count": 7,
   "id": "377b95dd-58d3-48b0-a4fc-d23ebd162cf5",
   "metadata": {},
   "outputs": [
    {
     "name": "stdout",
     "output_type": "stream",
     "text": [
      "[]\n"
     ]
    }
   ],
   "source": [
    "print(a)"
   ]
  },
  {
   "cell_type": "markdown",
   "id": "7666856f-002f-45c0-9d2f-43c60abea926",
   "metadata": {},
   "source": [
    "## 返回多个值"
   ]
  },
  {
   "cell_type": "code",
   "execution_count": 8,
   "id": "d9da0c96-1a3d-4983-afea-25afd8fd121b",
   "metadata": {},
   "outputs": [],
   "source": [
    "def f():\n",
    "    a = 5\n",
    "    b = 6\n",
    "    c = 7\n",
    "    return a, b, c\n",
    "a, b, c = f()"
   ]
  },
  {
   "cell_type": "code",
   "execution_count": 9,
   "id": "490e8c92-9a9d-40d6-b1b9-095ac2f1389f",
   "metadata": {},
   "outputs": [
    {
     "name": "stdout",
     "output_type": "stream",
     "text": [
      "5 6 7\n"
     ]
    }
   ],
   "source": [
    "print(a, b, c)"
   ]
  },
  {
   "cell_type": "markdown",
   "id": "5520bc5b-0503-44ee-b00d-7697772be9b1",
   "metadata": {},
   "source": [
    "## 函数是对象"
   ]
  },
  {
   "cell_type": "code",
   "execution_count": 13,
   "id": "ea39a432-15e8-43c3-a6bb-5c45bdbae675",
   "metadata": {},
   "outputs": [],
   "source": [
    "import re\n",
    "def remove_punctuation(value):\n",
    "    return re.sub('[! #? ]', '', value)\n",
    "    \n",
    "clean_ops = [str.strip, remove_punctuation, str.title]\n",
    "\n",
    "def clean_strings(strings, ops):\n",
    "    result = []\n",
    "    for value in strings:\n",
    "        for function in ops:\n",
    "              value = function(value)\n",
    "        result.append(value)\n",
    "    return result"
   ]
  },
  {
   "cell_type": "code",
   "execution_count": 11,
   "id": "57398c29-3b13-4349-8c35-ce66d058e849",
   "metadata": {},
   "outputs": [],
   "source": [
    "states = ['   Alabama ', 'Georgia! ', 'Georgia', 'georgia', 'FlOrIda', 'south    carolina##', 'West virginia? ']"
   ]
  },
  {
   "cell_type": "code",
   "execution_count": 14,
   "id": "0c6316b4-c5b8-4488-b6fa-0cc97c6d1f40",
   "metadata": {},
   "outputs": [
    {
     "data": {
      "text/plain": [
       "['Alabama',\n",
       " 'Georgia',\n",
       " 'Georgia',\n",
       " 'Georgia',\n",
       " 'Florida',\n",
       " 'Southcarolina',\n",
       " 'Westvirginia']"
      ]
     },
     "execution_count": 14,
     "metadata": {},
     "output_type": "execute_result"
    }
   ],
   "source": [
    "clean_strings(states, clean_ops)"
   ]
  },
  {
   "cell_type": "code",
   "execution_count": 15,
   "id": "58ccd221-b762-42f9-8a1b-7f72c78cd353",
   "metadata": {},
   "outputs": [
    {
     "name": "stdout",
     "output_type": "stream",
     "text": [
      "Alabama\n",
      "Georgia\n",
      "Georgia\n",
      "georgia\n",
      "FlOrIda\n",
      "southcarolina\n",
      "Westvirginia\n"
     ]
    }
   ],
   "source": [
    "for x in map(remove_punctuation, states):\n",
    "    print(x)"
   ]
  },
  {
   "cell_type": "markdown",
   "id": "34f71d00-9403-4b67-9b6b-6c54385d90a5",
   "metadata": {},
   "source": [
    "## 匿名（lambda）函数"
   ]
  },
  {
   "cell_type": "code",
   "execution_count": 16,
   "id": "33257830-88e1-4ebe-a93d-dfdad91298cb",
   "metadata": {},
   "outputs": [
    {
     "data": {
      "text/plain": [
       "4"
      ]
     },
     "execution_count": 16,
     "metadata": {},
     "output_type": "execute_result"
    }
   ],
   "source": [
    "def short_function(x):\n",
    "    return x * 2\n",
    "short_function(2)"
   ]
  },
  {
   "cell_type": "code",
   "execution_count": 20,
   "id": "57835e8b-a1dc-431b-b73f-b961ac9acd5a",
   "metadata": {},
   "outputs": [
    {
     "data": {
      "text/plain": [
       "4"
      ]
     },
     "execution_count": 20,
     "metadata": {},
     "output_type": "execute_result"
    }
   ],
   "source": [
    "# 单个语句生成\n",
    "equiv_anon = lambda x: x * 2\n",
    "equiv_anon(2)"
   ]
  },
  {
   "cell_type": "code",
   "execution_count": 23,
   "id": "08280ef8-4dc1-4d51-a92a-023e20358d90",
   "metadata": {},
   "outputs": [],
   "source": [
    "strings = ['foo', 'crd', 'bar', 'aaa', 'abab']"
   ]
  },
  {
   "cell_type": "code",
   "execution_count": 24,
   "id": "bf6b71df-a50b-4c92-83c4-4cd781690de2",
   "metadata": {},
   "outputs": [
    {
     "data": {
      "text/plain": [
       "['aaa', 'foo', 'abab', 'crd', 'bar']"
      ]
     },
     "execution_count": 24,
     "metadata": {},
     "output_type": "execute_result"
    }
   ],
   "source": [
    "strings.sort(key=lambda x: len(set(list(x))))\n",
    "strings"
   ]
  },
  {
   "cell_type": "markdown",
   "id": "0a347b22-0355-48cd-b311-26c6f9e4ae9d",
   "metadata": {},
   "source": [
    "## 柯里化： 部分参数应用"
   ]
  },
  {
   "cell_type": "code",
   "execution_count": 25,
   "id": "4d0457ad-ebbe-40ac-aa26-df042800d8e1",
   "metadata": {},
   "outputs": [],
   "source": [
    "def add_numbers(x, y):\n",
    "    return x + y"
   ]
  },
  {
   "cell_type": "code",
   "execution_count": 26,
   "id": "490830af-d241-40db-bacc-428055123eb9",
   "metadata": {},
   "outputs": [],
   "source": [
    "add_five = lambda y: add_numbers(5, y)"
   ]
  },
  {
   "cell_type": "code",
   "execution_count": 27,
   "id": "0362b1f6-e94f-4463-bc6e-199b6a0afa20",
   "metadata": {},
   "outputs": [],
   "source": [
    "from functools import partial\n",
    "add_seven = partial(add_numbers, 7)"
   ]
  },
  {
   "cell_type": "markdown",
   "id": "5dcfca7b-50f6-4963-a29b-67692ede4efd",
   "metadata": {},
   "source": [
    "## 生成器"
   ]
  },
  {
   "cell_type": "code",
   "execution_count": 28,
   "id": "c6df0954-216e-4933-adb9-ff269302eff2",
   "metadata": {},
   "outputs": [],
   "source": [
    "def squares(n=10):\n",
    "    print('Generating squares from 1 to {0}'.format(n ** 2))\n",
    "    for i in range(1, n + 1):\n",
    "        yield i ** 2"
   ]
  },
  {
   "cell_type": "code",
   "execution_count": 31,
   "id": "c60accfc-b94d-434d-8e86-fbc87dd50bbf",
   "metadata": {},
   "outputs": [
    {
     "data": {
      "text/plain": [
       "<generator object squares at 0x11c1f9cf0>"
      ]
     },
     "execution_count": 31,
     "metadata": {},
     "output_type": "execute_result"
    }
   ],
   "source": [
    "gen = squares()\n",
    "gen"
   ]
  },
  {
   "cell_type": "code",
   "execution_count": 32,
   "id": "a61020a4-e5a6-45fb-98bf-74b33a698221",
   "metadata": {},
   "outputs": [
    {
     "name": "stdout",
     "output_type": "stream",
     "text": [
      "Generating squares from 1 to 100\n",
      "1 4 9 16 25 36 49 64 81 100 "
     ]
    }
   ],
   "source": [
    "for x in gen:\n",
    "    print(x, end=' ')"
   ]
  },
  {
   "cell_type": "markdown",
   "id": "cd800295-3b62-4c88-92b3-fe98cfd1db31",
   "metadata": {},
   "source": [
    "## 生成器表达式"
   ]
  },
  {
   "cell_type": "code",
   "execution_count": 34,
   "id": "7dc84e96-912d-4d5e-bafc-e1318bc9a538",
   "metadata": {},
   "outputs": [
    {
     "data": {
      "text/plain": [
       "<generator object <genexpr> at 0x11c1f9c10>"
      ]
     },
     "execution_count": 34,
     "metadata": {},
     "output_type": "execute_result"
    }
   ],
   "source": [
    "gen = (x ** 2 for x in range(100))\n",
    "gen"
   ]
  },
  {
   "cell_type": "markdown",
   "id": "d1d55de2-3552-4fff-a0de-bcc0976e5593",
   "metadata": {},
   "source": [
    "## intertools 模块"
   ]
  },
  {
   "cell_type": "code",
   "execution_count": 36,
   "id": "0ead034f-64bf-47fd-b107-f9b09b8d88bf",
   "metadata": {},
   "outputs": [
    {
     "name": "stdout",
     "output_type": "stream",
     "text": [
      "A ['Alan', 'Adam']\n",
      "W ['Wes', 'Will']\n",
      "A ['Alber']\n"
     ]
    }
   ],
   "source": [
    "import itertools\n",
    "first_letter = lambda x: x[0]\n",
    "names = ['Alan', 'Adam', 'Wes', 'Will', 'Alber']\n",
    "for letter, names in itertools.groupby(names, first_letter):\n",
    "    print(letter, list(names))"
   ]
  }
 ],
 "metadata": {
  "kernelspec": {
   "display_name": "Python 3 (ipykernel)",
   "language": "python",
   "name": "python3"
  },
  "language_info": {
   "codemirror_mode": {
    "name": "ipython",
    "version": 3
   },
   "file_extension": ".py",
   "mimetype": "text/x-python",
   "name": "python",
   "nbconvert_exporter": "python",
   "pygments_lexer": "ipython3",
   "version": "3.8.10"
  }
 },
 "nbformat": 4,
 "nbformat_minor": 5
}
