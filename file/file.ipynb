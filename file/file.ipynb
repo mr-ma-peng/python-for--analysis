{
 "cells": [
  {
   "cell_type": "markdown",
   "id": "43bde48e-567a-48f3-962c-78214eb14e4f",
   "metadata": {},
   "source": [
    "# 文件"
   ]
  },
  {
   "cell_type": "code",
   "execution_count": 11,
   "id": "dc648533-1f0e-4eca-a0ef-5e0cec9977a7",
   "metadata": {},
   "outputs": [],
   "source": [
    "path = './example.txt'\n",
    "f = open(path)"
   ]
  },
  {
   "cell_type": "code",
   "execution_count": 2,
   "id": "4c6806f0-de7b-4230-9b01-6c66c3eee0e8",
   "metadata": {},
   "outputs": [],
   "source": [
    "for line in f:\n",
    "    pass"
   ]
  },
  {
   "cell_type": "code",
   "execution_count": 5,
   "id": "a9acefc0-e8b7-42e1-911c-1fdc1d2f0f44",
   "metadata": {},
   "outputs": [
    {
     "data": {
      "text/plain": [
       "['Tomb Sweeping Day',\n",
       " 'Qingming Festival, also known as Tomb-Sweeping Day, originated in ancient China 2500 years ago. During Qingming Festival, people visit the graves of their ancestors to pay respects, offering flowers, food, and burning incense to honor their departed loved ones. Families also gather together for spring outings and kite flying. One of the most famous traditional foods associated with Qingming Festival is Qingtuan, which is a type of flavored glutinous rice cake dyed with plant extracts. Qingming Festival holds great significance as it commemorates ancestors, strengthens family bonds, and preserves cultural traditions. It is one of the four major traditional festivals of the Chinese people and is the grandest occasion for ancestral worship in Chinese culture.',\n",
       " '',\n",
       " '注：',\n",
       " '清明节   ----  Tomb Sweeping Day          [tuːm ˈswiːpɪŋ deɪ]',\n",
       " '坟墓；墓穴；墓地   ---- grave [ɡreɪv]',\n",
       " '祖先  ----   ancestor [ˈænˌsestər]',\n",
       " '香（尤指宗教礼仪用）----  incense [ɪnˈsens]',\n",
       " '尊敬；尊重  ----  honor [ˈɑnər]',\n",
       " '去世者，亡故者  ---- depart [dɪˈpɑrt]',\n",
       " '',\n",
       " '风筝   ----  kite [kaɪt]',\n",
       " '提味的  ---  flavored [ˈfleɪvərd]',\n",
       " '糯米的  ---  glutinous [ˈɡlut(ə)nəs]',\n",
       " '给…染色  ---  dye [daɪ]',\n",
       " '提取物 ---  extract [ˈekˌstrækt]',\n",
       " '隆重的，壮丽的  ----  grand [ɡrænd]',\n",
       " '',\n",
       " '（清明节起源于2500年前的中国古代。在清明节，人们会前往祖先墓地祭扫，献上鲜花、食物和烧纸钱，表达对逝去亲人的怀念和敬意。 也会阖家团聚，一起春游，放风筝。清明节最著名的传统食物是青团,它是一种由植物染色的糯米粉做成的各种口味的馅饼。 清明节的意义重大，因为它缅怀祖先、加强家庭纽带、传承文化传统。 它是中华民族的四大传统节日之一，也是中华民族最隆重盛大的祭祖大节。）']"
      ]
     },
     "execution_count": 5,
     "metadata": {},
     "output_type": "execute_result"
    }
   ],
   "source": [
    "lines = [x.rstrip() for x in f]\n",
    "lines"
   ]
  },
  {
   "cell_type": "code",
   "execution_count": 7,
   "id": "e9eff5fd-2c68-4a58-9e6a-2bac968583dc",
   "metadata": {},
   "outputs": [],
   "source": [
    "f.close()"
   ]
  },
  {
   "cell_type": "code",
   "execution_count": 8,
   "id": "e2c29bbf-30e0-4838-b644-2955ea0f0d20",
   "metadata": {},
   "outputs": [],
   "source": [
    "with open(path) as f:\n",
    "    lines = [x.rstrip() for x in f]"
   ]
  },
  {
   "cell_type": "code",
   "execution_count": 12,
   "id": "2fe5912f-62da-47f0-9ba6-cfdbcd9848d5",
   "metadata": {},
   "outputs": [
    {
     "data": {
      "text/plain": [
       "'Tomb Sweep'"
      ]
     },
     "execution_count": 12,
     "metadata": {},
     "output_type": "execute_result"
    }
   ],
   "source": [
    "f.read(10)"
   ]
  },
  {
   "cell_type": "code",
   "execution_count": 13,
   "id": "c096ca11-efa1-40a8-89fa-266afeb2da14",
   "metadata": {},
   "outputs": [
    {
     "data": {
      "text/plain": [
       "'utf-8'"
      ]
     },
     "execution_count": 13,
     "metadata": {},
     "output_type": "execute_result"
    }
   ],
   "source": [
    "import sys\n",
    "sys.getdefaultencoding()"
   ]
  },
  {
   "cell_type": "code",
   "execution_count": 14,
   "id": "33e63984-cbc3-42b4-a09d-8c28f92ac641",
   "metadata": {},
   "outputs": [
    {
     "data": {
      "text/plain": [
       "'Sweep'"
      ]
     },
     "execution_count": 14,
     "metadata": {},
     "output_type": "execute_result"
    }
   ],
   "source": [
    "f.seek(5)\n",
    "f.read(5)"
   ]
  },
  {
   "cell_type": "code",
   "execution_count": 15,
   "id": "6d1cc190-d855-40b1-8474-57283cffa7f8",
   "metadata": {},
   "outputs": [],
   "source": [
    "f.close()"
   ]
  },
  {
   "cell_type": "code",
   "execution_count": 16,
   "id": "25134e3b-9648-4bfb-be03-5a56ba858814",
   "metadata": {},
   "outputs": [],
   "source": [
    "with open('./temp.txt', 'w') as handle:\n",
    "    handle.writelines(x for x in open(path) if(len(x) > 1))"
   ]
  },
  {
   "cell_type": "code",
   "execution_count": 17,
   "id": "2950d1b8-a21d-40c9-b671-fc5922e3ca10",
   "metadata": {},
   "outputs": [
    {
     "data": {
      "text/plain": [
       "['Tomb Sweeping Day\\n',\n",
       " 'Qingming Festival, also known as Tomb-Sweeping Day, originated in ancient China 2500 years ago. During Qingming Festival, people visit the graves of their ancestors to pay respects, offering flowers, food, and burning incense to honor their departed loved ones. Families also gather together for spring outings and kite flying. One of the most famous traditional foods associated with Qingming Festival is Qingtuan, which is a type of flavored glutinous rice cake dyed with plant extracts. Qingming Festival holds great significance as it commemorates ancestors, strengthens family bonds, and preserves cultural traditions. It is one of the four major traditional festivals of the Chinese people and is the grandest occasion for ancestral worship in Chinese culture.\\n',\n",
       " '注：\\n',\n",
       " '清明节   ----  Tomb Sweeping Day          [tuːm ˈswiːpɪŋ deɪ]\\n',\n",
       " '坟墓；墓穴；墓地   ---- grave [ɡreɪv]\\n',\n",
       " '祖先  ----   ancestor [ˈænˌsestər]\\n',\n",
       " '香（尤指宗教礼仪用）----  incense [ɪnˈsens]\\n',\n",
       " '尊敬；尊重  ----  honor [ˈɑnər]\\n',\n",
       " '去世者，亡故者  ---- depart [dɪˈpɑrt]\\n',\n",
       " '风筝   ----  kite [kaɪt]\\n',\n",
       " '提味的  ---  flavored [ˈfleɪvərd]\\n',\n",
       " '糯米的  ---  glutinous [ˈɡlut(ə)nəs]\\n',\n",
       " '给…染色  ---  dye [daɪ]\\n',\n",
       " '提取物 ---  extract [ˈekˌstrækt]\\n',\n",
       " '隆重的，壮丽的  ----  grand [ɡrænd]\\n',\n",
       " '（清明节起源于2500年前的中国古代。在清明节，人们会前往祖先墓地祭扫，献上鲜花、食物和烧纸钱，表达对逝去亲人的怀念和敬意。 也会阖家团聚，一起春游，放风筝。清明节最著名的传统食物是青团,它是一种由植物染色的糯米粉做成的各种口味的馅饼。 清明节的意义重大，因为它缅怀祖先、加强家庭纽带、传承文化传统。 它是中华民族的四大传统节日之一，也是中华民族最隆重盛大的祭祖大节。）']"
      ]
     },
     "execution_count": 17,
     "metadata": {},
     "output_type": "execute_result"
    }
   ],
   "source": [
    "with open('./temp.txt') as f:\n",
    "    lines = f.readlines()\n",
    "lines"
   ]
  },
  {
   "cell_type": "markdown",
   "id": "7a711903-2f71-4d36-bbd4-62ded264916a",
   "metadata": {},
   "source": [
    "## 字节与unicode文件"
   ]
  },
  {
   "cell_type": "code",
   "execution_count": 18,
   "id": "660f529d-4c40-4211-8c14-8a7f457df0de",
   "metadata": {},
   "outputs": [
    {
     "data": {
      "text/plain": [
       "b'Tomb Sweep'"
      ]
     },
     "execution_count": 18,
     "metadata": {},
     "output_type": "execute_result"
    }
   ],
   "source": [
    "with open(path, 'rb') as f:\n",
    "    data = f.read(10)\n",
    "data"
   ]
  },
  {
   "cell_type": "code",
   "execution_count": 19,
   "id": "2fc7d792-981f-4422-9500-3bd078e5b866",
   "metadata": {},
   "outputs": [
    {
     "data": {
      "text/plain": [
       "'Tomb Sweep'"
      ]
     },
     "execution_count": 19,
     "metadata": {},
     "output_type": "execute_result"
    }
   ],
   "source": [
    "data.decode('utf8')"
   ]
  },
  {
   "cell_type": "code",
   "execution_count": 20,
   "id": "3cd7f9c9-5254-4ad4-a54a-7b3d8025cf4c",
   "metadata": {},
   "outputs": [
    {
     "name": "stdout",
     "output_type": "stream",
     "text": [
      "Tomb Sweep\n"
     ]
    }
   ],
   "source": [
    "with open(path, encoding='iso-8859-1') as f:\n",
    "    print(f.read(10))"
   ]
  }
 ],
 "metadata": {
  "kernelspec": {
   "display_name": "Python 3 (ipykernel)",
   "language": "python",
   "name": "python3"
  },
  "language_info": {
   "codemirror_mode": {
    "name": "ipython",
    "version": 3
   },
   "file_extension": ".py",
   "mimetype": "text/x-python",
   "name": "python",
   "nbconvert_exporter": "python",
   "pygments_lexer": "ipython3",
   "version": "3.8.10"
  }
 },
 "nbformat": 4,
 "nbformat_minor": 5
}
